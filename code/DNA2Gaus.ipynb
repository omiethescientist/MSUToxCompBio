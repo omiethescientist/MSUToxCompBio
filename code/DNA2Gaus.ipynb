{
 "cells": [
  {
   "cell_type": "code",
   "execution_count": 28,
   "metadata": {},
   "outputs": [
    {
     "name": "stderr",
     "output_type": "stream",
     "text": [
      "┌ Info: Precompiling StatsBase [2913bbd2-ae8a-5f71-8c99-4fb6c76f3a91]\n",
      "└ @ Base loading.jl:1242\n"
     ]
    }
   ],
   "source": [
    "using BioSequences\n",
    "using CSV\n",
    "using GZip\n",
    "using StatsBase\n",
    "using DataFrames"
   ]
  },
  {
   "cell_type": "code",
   "execution_count": 78,
   "metadata": {},
   "outputs": [
    {
     "data": {
      "text/html": [
       "<table class=\"data-frame\"><thead><tr><th></th><th>Column1</th><th>Column2</th><th>Column3</th><th>Column4</th><th>Column5</th><th>Column6</th><th>Column7</th><th>Column8</th><th>Column9</th></tr><tr><th></th><th>String</th><th>Int64</th><th>Int64</th><th>Float64</th><th>Int64</th><th>Float64</th><th>Float64</th><th>Int64</th><th>Int64</th></tr></thead><tbody><p>1,000 rows × 10 columns (omitted printing of 1 columns)</p><tr><th>1</th><td>chr1</td><td>1204595</td><td>1204745</td><td>0.0</td><td>0</td><td>0.0</td><td>19.0</td><td>-1</td><td>-1</td></tr><tr><th>2</th><td>chr1</td><td>2047375</td><td>2047525</td><td>0.0</td><td>0</td><td>0.0</td><td>311.0</td><td>-1</td><td>-1</td></tr><tr><th>3</th><td>chr1</td><td>2215535</td><td>2215685</td><td>0.0</td><td>0</td><td>0.0</td><td>40.0</td><td>-1</td><td>-1</td></tr><tr><th>4</th><td>chr1</td><td>4826465</td><td>4826615</td><td>0.0</td><td>0</td><td>0.0</td><td>20.0</td><td>-1</td><td>-1</td></tr><tr><th>5</th><td>chr1</td><td>6242355</td><td>6242505</td><td>0.0</td><td>0</td><td>0.0</td><td>433.0</td><td>-1</td><td>-1</td></tr><tr><th>6</th><td>chr1</td><td>6447875</td><td>6448025</td><td>0.0</td><td>0</td><td>0.0</td><td>749.0</td><td>-1</td><td>-1</td></tr><tr><th>7</th><td>chr1</td><td>6467173</td><td>6467323</td><td>0.0</td><td>0</td><td>0.0</td><td>10.0</td><td>-1</td><td>-1</td></tr><tr><th>8</th><td>chr1</td><td>6511175</td><td>6511325</td><td>0.0</td><td>0</td><td>0.0</td><td>86.0</td><td>-1</td><td>-1</td></tr><tr><th>9</th><td>chr1</td><td>8061355</td><td>8061505</td><td>0.0</td><td>0</td><td>0.0</td><td>117.0</td><td>-1</td><td>-1</td></tr><tr><th>10</th><td>chr1</td><td>8462415</td><td>8462565</td><td>0.0</td><td>0</td><td>0.0</td><td>30.0</td><td>-1</td><td>-1</td></tr><tr><th>11</th><td>chr1</td><td>9495335</td><td>9495485</td><td>0.0</td><td>0</td><td>0.0</td><td>305.0</td><td>-1</td><td>-1</td></tr><tr><th>12</th><td>chr1</td><td>11735975</td><td>11736125</td><td>0.0</td><td>0</td><td>0.0</td><td>1094.0</td><td>-1</td><td>-1</td></tr><tr><th>13</th><td>chr1</td><td>12616055</td><td>12616205</td><td>0.0</td><td>0</td><td>0.0</td><td>417.0</td><td>-1</td><td>-1</td></tr><tr><th>14</th><td>chr1</td><td>18955795</td><td>18955945</td><td>0.0</td><td>0</td><td>0.0</td><td>176.0</td><td>-1</td><td>-1</td></tr><tr><th>15</th><td>chr1</td><td>19927165</td><td>19927315</td><td>0.0</td><td>0</td><td>0.0</td><td>74.0</td><td>-1</td><td>-1</td></tr><tr><th>16</th><td>chr1</td><td>21669795</td><td>21669945</td><td>0.0</td><td>0</td><td>0.0</td><td>1843.0</td><td>-1</td><td>-1</td></tr><tr><th>17</th><td>chr1</td><td>21935995</td><td>21936145</td><td>0.0</td><td>0</td><td>0.0</td><td>75.0</td><td>-1</td><td>-1</td></tr><tr><th>18</th><td>chr1</td><td>23744795</td><td>23744945</td><td>0.0</td><td>0</td><td>0.0</td><td>34.0</td><td>-1</td><td>-1</td></tr><tr><th>19</th><td>chr1</td><td>24118455</td><td>24118605</td><td>0.0</td><td>0</td><td>0.0</td><td>258.0</td><td>-1</td><td>-1</td></tr><tr><th>20</th><td>chr1</td><td>26417115</td><td>26417265</td><td>0.0</td><td>0</td><td>0.0</td><td>100.0</td><td>-1</td><td>-1</td></tr><tr><th>21</th><td>chr1</td><td>26723635</td><td>26723785</td><td>0.0</td><td>0</td><td>0.0</td><td>274.0</td><td>-1</td><td>-1</td></tr><tr><th>22</th><td>chr1</td><td>27341895</td><td>27342045</td><td>0.0</td><td>0</td><td>0.0</td><td>321.0</td><td>-1</td><td>-1</td></tr><tr><th>23</th><td>chr1</td><td>27914575</td><td>27914725</td><td>0.0</td><td>0</td><td>0.0</td><td>535.0</td><td>-1</td><td>-1</td></tr><tr><th>24</th><td>chr1</td><td>31701155</td><td>31701305</td><td>0.0</td><td>0</td><td>0.0</td><td>656.0</td><td>-1</td><td>-1</td></tr><tr><th>25</th><td>chr1</td><td>31762775</td><td>31762925</td><td>0.0</td><td>0</td><td>0.0</td><td>244.0</td><td>-1</td><td>-1</td></tr><tr><th>26</th><td>chr1</td><td>32352295</td><td>32352445</td><td>0.0</td><td>0</td><td>0.0</td><td>163.0</td><td>-1</td><td>-1</td></tr><tr><th>27</th><td>chr1</td><td>33342137</td><td>33342287</td><td>0.0</td><td>0</td><td>0.0</td><td>38.0</td><td>-1</td><td>-1</td></tr><tr><th>28</th><td>chr1</td><td>33634861</td><td>33635011</td><td>0.0</td><td>0</td><td>0.0</td><td>19.0</td><td>-1</td><td>-1</td></tr><tr><th>29</th><td>chr1</td><td>37753075</td><td>37753225</td><td>0.0</td><td>0</td><td>0.0</td><td>109.0</td><td>-1</td><td>-1</td></tr><tr><th>30</th><td>chr1</td><td>40078655</td><td>40078805</td><td>0.0</td><td>0</td><td>0.0</td><td>35.0</td><td>-1</td><td>-1</td></tr><tr><th>&vellip;</th><td>&vellip;</td><td>&vellip;</td><td>&vellip;</td><td>&vellip;</td><td>&vellip;</td><td>&vellip;</td><td>&vellip;</td><td>&vellip;</td><td>&vellip;</td></tr></tbody></table>"
      ],
      "text/latex": [
       "\\begin{tabular}{r|cccccccccc}\n",
       "\t& Column1 & Column2 & Column3 & Column4 & Column5 & Column6 & Column7 & Column8 & Column9 & \\\\\n",
       "\t\\hline\n",
       "\t& String & Int64 & Int64 & Float64 & Int64 & Float64 & Float64 & Int64 & Int64 & \\\\\n",
       "\t\\hline\n",
       "\t1 & chr1 & 1204595 & 1204745 & 0.0 & 0 & 0.0 & 19.0 & -1 & -1 & $\\dots$ \\\\\n",
       "\t2 & chr1 & 2047375 & 2047525 & 0.0 & 0 & 0.0 & 311.0 & -1 & -1 & $\\dots$ \\\\\n",
       "\t3 & chr1 & 2215535 & 2215685 & 0.0 & 0 & 0.0 & 40.0 & -1 & -1 & $\\dots$ \\\\\n",
       "\t4 & chr1 & 4826465 & 4826615 & 0.0 & 0 & 0.0 & 20.0 & -1 & -1 & $\\dots$ \\\\\n",
       "\t5 & chr1 & 6242355 & 6242505 & 0.0 & 0 & 0.0 & 433.0 & -1 & -1 & $\\dots$ \\\\\n",
       "\t6 & chr1 & 6447875 & 6448025 & 0.0 & 0 & 0.0 & 749.0 & -1 & -1 & $\\dots$ \\\\\n",
       "\t7 & chr1 & 6467173 & 6467323 & 0.0 & 0 & 0.0 & 10.0 & -1 & -1 & $\\dots$ \\\\\n",
       "\t8 & chr1 & 6511175 & 6511325 & 0.0 & 0 & 0.0 & 86.0 & -1 & -1 & $\\dots$ \\\\\n",
       "\t9 & chr1 & 8061355 & 8061505 & 0.0 & 0 & 0.0 & 117.0 & -1 & -1 & $\\dots$ \\\\\n",
       "\t10 & chr1 & 8462415 & 8462565 & 0.0 & 0 & 0.0 & 30.0 & -1 & -1 & $\\dots$ \\\\\n",
       "\t11 & chr1 & 9495335 & 9495485 & 0.0 & 0 & 0.0 & 305.0 & -1 & -1 & $\\dots$ \\\\\n",
       "\t12 & chr1 & 11735975 & 11736125 & 0.0 & 0 & 0.0 & 1094.0 & -1 & -1 & $\\dots$ \\\\\n",
       "\t13 & chr1 & 12616055 & 12616205 & 0.0 & 0 & 0.0 & 417.0 & -1 & -1 & $\\dots$ \\\\\n",
       "\t14 & chr1 & 18955795 & 18955945 & 0.0 & 0 & 0.0 & 176.0 & -1 & -1 & $\\dots$ \\\\\n",
       "\t15 & chr1 & 19927165 & 19927315 & 0.0 & 0 & 0.0 & 74.0 & -1 & -1 & $\\dots$ \\\\\n",
       "\t16 & chr1 & 21669795 & 21669945 & 0.0 & 0 & 0.0 & 1843.0 & -1 & -1 & $\\dots$ \\\\\n",
       "\t17 & chr1 & 21935995 & 21936145 & 0.0 & 0 & 0.0 & 75.0 & -1 & -1 & $\\dots$ \\\\\n",
       "\t18 & chr1 & 23744795 & 23744945 & 0.0 & 0 & 0.0 & 34.0 & -1 & -1 & $\\dots$ \\\\\n",
       "\t19 & chr1 & 24118455 & 24118605 & 0.0 & 0 & 0.0 & 258.0 & -1 & -1 & $\\dots$ \\\\\n",
       "\t20 & chr1 & 26417115 & 26417265 & 0.0 & 0 & 0.0 & 100.0 & -1 & -1 & $\\dots$ \\\\\n",
       "\t21 & chr1 & 26723635 & 26723785 & 0.0 & 0 & 0.0 & 274.0 & -1 & -1 & $\\dots$ \\\\\n",
       "\t22 & chr1 & 27341895 & 27342045 & 0.0 & 0 & 0.0 & 321.0 & -1 & -1 & $\\dots$ \\\\\n",
       "\t23 & chr1 & 27914575 & 27914725 & 0.0 & 0 & 0.0 & 535.0 & -1 & -1 & $\\dots$ \\\\\n",
       "\t24 & chr1 & 31701155 & 31701305 & 0.0 & 0 & 0.0 & 656.0 & -1 & -1 & $\\dots$ \\\\\n",
       "\t25 & chr1 & 31762775 & 31762925 & 0.0 & 0 & 0.0 & 244.0 & -1 & -1 & $\\dots$ \\\\\n",
       "\t26 & chr1 & 32352295 & 32352445 & 0.0 & 0 & 0.0 & 163.0 & -1 & -1 & $\\dots$ \\\\\n",
       "\t27 & chr1 & 33342137 & 33342287 & 0.0 & 0 & 0.0 & 38.0 & -1 & -1 & $\\dots$ \\\\\n",
       "\t28 & chr1 & 33634861 & 33635011 & 0.0 & 0 & 0.0 & 19.0 & -1 & -1 & $\\dots$ \\\\\n",
       "\t29 & chr1 & 37753075 & 37753225 & 0.0 & 0 & 0.0 & 109.0 & -1 & -1 & $\\dots$ \\\\\n",
       "\t30 & chr1 & 40078655 & 40078805 & 0.0 & 0 & 0.0 & 35.0 & -1 & -1 & $\\dots$ \\\\\n",
       "\t$\\dots$ & $\\dots$ & $\\dots$ & $\\dots$ & $\\dots$ & $\\dots$ & $\\dots$ & $\\dots$ & $\\dots$ & $\\dots$ &  \\\\\n",
       "\\end{tabular}\n"
      ],
      "text/plain": [
       "1000×10 DataFrames.DataFrame. Omitted printing of 4 columns\n",
       "│ Row  │ Column1 │ Column2   │ Column3   │ Column4 │ Column5 │ Column6 │\n",
       "│      │ \u001b[90mString\u001b[39m  │ \u001b[90mInt64\u001b[39m     │ \u001b[90mInt64\u001b[39m     │ \u001b[90mFloat64\u001b[39m │ \u001b[90mInt64\u001b[39m   │ \u001b[90mFloat64\u001b[39m │\n",
       "├──────┼─────────┼───────────┼───────────┼─────────┼─────────┼─────────┤\n",
       "│ 1    │ chr1    │ 1204595   │ 1204745   │ 0.0     │ 0       │ 0.0     │\n",
       "│ 2    │ chr1    │ 2047375   │ 2047525   │ 0.0     │ 0       │ 0.0     │\n",
       "│ 3    │ chr1    │ 2215535   │ 2215685   │ 0.0     │ 0       │ 0.0     │\n",
       "│ 4    │ chr1    │ 4826465   │ 4826615   │ 0.0     │ 0       │ 0.0     │\n",
       "│ 5    │ chr1    │ 6242355   │ 6242505   │ 0.0     │ 0       │ 0.0     │\n",
       "│ 6    │ chr1    │ 6447875   │ 6448025   │ 0.0     │ 0       │ 0.0     │\n",
       "│ 7    │ chr1    │ 6467173   │ 6467323   │ 0.0     │ 0       │ 0.0     │\n",
       "│ 8    │ chr1    │ 6511175   │ 6511325   │ 0.0     │ 0       │ 0.0     │\n",
       "│ 9    │ chr1    │ 8061355   │ 8061505   │ 0.0     │ 0       │ 0.0     │\n",
       "│ 10   │ chr1    │ 8462415   │ 8462565   │ 0.0     │ 0       │ 0.0     │\n",
       "⋮\n",
       "│ 990  │ chrX    │ 126460139 │ 126460289 │ 0.0     │ 0       │ 0.0     │\n",
       "│ 991  │ chrX    │ 134373175 │ 134373325 │ 0.0     │ 0       │ 0.0     │\n",
       "│ 992  │ chrX    │ 139828128 │ 139828278 │ 0.0     │ 0       │ 0.0     │\n",
       "│ 993  │ chrX    │ 154472235 │ 154472385 │ 0.0     │ 0       │ 0.0     │\n",
       "│ 994  │ chrX    │ 154517335 │ 154517485 │ 0.0     │ 0       │ 0.0     │\n",
       "│ 995  │ chrX    │ 155612835 │ 155612985 │ 0.0     │ 0       │ 0.0     │\n",
       "│ 996  │ chrY    │ 7273974   │ 7274124   │ 0.0     │ 0       │ 0.0     │\n",
       "│ 997  │ chrY    │ 7819035   │ 7819185   │ 0.0     │ 0       │ 0.0     │\n",
       "│ 998  │ chrY    │ 8857595   │ 8857745   │ 0.0     │ 0       │ 0.0     │\n",
       "│ 999  │ chrY    │ 12749475  │ 12749625  │ 0.0     │ 0       │ 0.0     │\n",
       "│ 1000 │ chrY    │ 19577295  │ 19577445  │ 0.0     │ 0       │ 0.0     │"
      ]
     },
     "execution_count": 78,
     "metadata": {},
     "output_type": "execute_result"
    }
   ],
   "source": [
    "#Reading Open Chromatin Region\n",
    "full_loci = CSV.read(GZip.open(\"../data/liver_euchormatin/ENCFF955WVT_HEPG2_DNaseSeq.bed.gz\", \"r\"), delim = '\\t', header = false)\n",
    "#Sampling to reduce memory requirement and create proof of concept\n",
    "row_inds = sample(axes(full_loci, 1), 1000, replace = false, ordered = true)\n",
    "loci = full_loci[row_inds, :]"
   ]
  },
  {
   "cell_type": "code",
   "execution_count": 88,
   "metadata": {},
   "outputs": [
    {
     "ename": "MethodError",
     "evalue": "MethodError: no method matching ReferenceSequence(::ReferenceSequence)\nClosest candidates are:\n  ReferenceSequence(::ReferenceSequence, !Matched::UnitRange{#s62} where #s62<:Integer) at /Users/omarkana/.julia/packages/BioSequences/7i86L/src/refseq.jl:36\n  ReferenceSequence(::Any, !Matched::Any, !Matched::Any) at /Users/omarkana/.julia/packages/BioSequences/7i86L/src/refseq.jl:18\n  ReferenceSequence() at /Users/omarkana/.julia/packages/BioSequences/7i86L/src/refseq.jl:32\n  ...",
     "output_type": "error",
     "traceback": [
      "MethodError: no method matching ReferenceSequence(::ReferenceSequence)\nClosest candidates are:\n  ReferenceSequence(::ReferenceSequence, !Matched::UnitRange{#s62} where #s62<:Integer) at /Users/omarkana/.julia/packages/BioSequences/7i86L/src/refseq.jl:36\n  ReferenceSequence(::Any, !Matched::Any, !Matched::Any) at /Users/omarkana/.julia/packages/BioSequences/7i86L/src/refseq.jl:18\n  ReferenceSequence() at /Users/omarkana/.julia/packages/BioSequences/7i86L/src/refseq.jl:32\n  ...",
      "",
      "Stacktrace:",
      " [1] (::getfield(Main, Symbol(\"##35#36\")))(::Int64) at ./none:0",
      " [2] iterate at ./generator.jl:47 [inlined]",
      " [3] collect(::Base.Generator{UnitRange{Int64},getfield(Main, Symbol(\"##35#36\"))}) at ./array.jl:606",
      " [4] top-level scope at In[88]:2"
     ]
    }
   ],
   "source": [
    "loci = convert(Matrix, loci)\n",
    "seqs = [ReferenceSequence(sequence(hg38[loci[i,1]])[loci[i,2]:loci[i,3]]) for i in 1:length(loci[:,1])]"
   ]
  },
  {
   "cell_type": "code",
   "execution_count": 83,
   "metadata": {},
   "outputs": [
    {
     "data": {
      "text/plain": [
       "1000"
      ]
     },
     "execution_count": 83,
     "metadata": {},
     "output_type": "execute_result"
    }
   ],
   "source": [
    "length(seqs)"
   ]
  },
  {
   "cell_type": "code",
   "execution_count": null,
   "metadata": {},
   "outputs": [],
   "source": []
  }
 ],
 "metadata": {
  "kernelspec": {
   "display_name": "Julia 1.2.0",
   "language": "julia",
   "name": "julia-1.2"
  },
  "language_info": {
   "file_extension": ".jl",
   "mimetype": "application/julia",
   "name": "julia",
   "version": "1.2.0"
  }
 },
 "nbformat": 4,
 "nbformat_minor": 4
}
