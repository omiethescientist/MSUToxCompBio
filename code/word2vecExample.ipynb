{
 "cells": [
  {
   "cell_type": "code",
   "execution_count": 8,
   "metadata": {},
   "outputs": [],
   "source": [
    "class Employee:\n",
    "    #Dont forget self for the instance\n",
    "    def __init__(self, first, last, pay):\n",
    "        self.first = first\n",
    "        self.last = last\n",
    "        self.pay = pay\n",
    "        self.email = first + '.' + last + '@company.com'\n",
    "    def fullname(self):\n",
    "        return '{} {}'.format(self.first, self.last)\n",
    "#emp_1 = Employee()\n",
    "#emp_2 = Employee()\n",
    "\n",
    "#print(emp_1)\n",
    "#print(emp_1)\n",
    "#emp_1.first = 'Corey'\n",
    "#emp_1.last = 'Schafer'\n",
    "#emp_1.email = 'Corey.Schager@company.com'\n",
    "#emp_1.pay  = 5000\n",
    "\n",
    "#emp_2.first = 'test'\n",
    "#emp_2.last = 'user'\n",
    "#emp_2.email = 'test.user@company.com'\n",
    "#emp_2.pay  = 6000\n",
    "\n",
    "#print(emp_1.email)\n",
    "#print(emp_2.email)\n",
    "\n"
   ]
  },
  {
   "cell_type": "code",
   "execution_count": 10,
   "metadata": {},
   "outputs": [
    {
     "name": "stdout",
     "output_type": "stream",
     "text": [
      "<__main__.Employee object at 0x109335390>\n",
      "<__main__.Employee object at 0x1093353c8>\n",
      "corey.schafer@company.com\n",
      "corey schafer\n",
      "corey schafer\n"
     ]
    }
   ],
   "source": [
    "Emp1 = Employee('corey', 'schafer', 50000)\n",
    "Emp2 = Employee('test', 'user', 60000)\n",
    "\n",
    "print(Emp1)\n",
    "print(Emp2)\n",
    "print(Emp1.email)\n",
    "print(Emp1.fullname())\n",
    "print(Employee.fullname(Emp1))"
   ]
  },
  {
   "cell_type": "code",
   "execution_count": null,
   "metadata": {},
   "outputs": [],
   "source": []
  }
 ],
 "metadata": {
  "kernelspec": {
   "display_name": "Python 3",
   "language": "python",
   "name": "python3"
  },
  "language_info": {
   "codemirror_mode": {
    "name": "ipython",
    "version": 3
   },
   "file_extension": ".py",
   "mimetype": "text/x-python",
   "name": "python",
   "nbconvert_exporter": "python",
   "pygments_lexer": "ipython3",
   "version": "3.7.1"
  }
 },
 "nbformat": 4,
 "nbformat_minor": 2
}
