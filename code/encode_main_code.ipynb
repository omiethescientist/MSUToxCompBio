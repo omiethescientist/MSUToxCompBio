{
 "cells": [
  {
   "cell_type": "markdown",
   "metadata": {},
   "source": [
    "# Encode Imputation Main Coding Notebook"
   ]
  },
  {
   "cell_type": "markdown",
   "metadata": {},
   "source": [
    "## Summary \n",
    "The Encyclopedia of DNA Elements (ENCODE) Consortium is an international collaboration of research groups funded by the National Human Genome Research Institute. The goal of ENCODE is to build a comprehensive parts list of functional elements in the human genome, including elements that act at the protein and RNA levels, and regulatory elements that control cells and circumstances in which a gene is active. Accordingly, a major activity of data production labs within ENCODE is the generation of data sets that enable characterization of various types of biochemical activity—transcription, histone modifications, chromatin accessibility, transcription factor binding, etc.—along the human genome. Performing the assays that measure these genomic features is expensive, and technical challenges may prevent complete characterization of particular cell types, so computational methods capable of predicting the outcome of these assays are potentially valuable. The goal of the ENCODE Imputation Challenge is to empirically compare methods for imputing data produced by various types of genomics assays. The challenge will be carried out in parallel with ENCODE’s ongoing data generation efforts, thereby allowing truly prospective validation of methods on newly acquired data sets."
   ]
  },
  {
   "cell_type": "code",
   "execution_count": 4,
   "metadata": {},
   "outputs": [],
   "source": [
    "# Loading modules\n",
    "import synapseclient as syn\n",
    "import pyBigWig as bw\n",
    "import twobitreader as tbr\n",
    "import pandas as pd\n",
    "import numpy as np\n",
    "import matplotlib.pyplot as plt"
   ]
  },
  {
   "cell_type": "code",
   "execution_count": 5,
   "metadata": {},
   "outputs": [
    {
     "name": "stdout",
     "output_type": "stream",
     "text": [
      "True\n",
      "False\n"
     ]
    }
   ],
   "source": [
    "# Playing around with BigWig\n",
    "td_1 = bw.open('../data/encode_challenge_dat/training_data/C01M16.bigwig')\n",
    "print(td_1.isBigWig())\n",
    "print(td_1.isBigBed())"
   ]
  },
  {
   "cell_type": "code",
   "execution_count": 6,
   "metadata": {},
   "outputs": [
    {
     "data": {
      "text/plain": [
       "{'chr1': 248956422,\n",
       " 'chr10': 133797422,\n",
       " 'chr11': 135086622,\n",
       " 'chr12': 133275309,\n",
       " 'chr13': 114364328,\n",
       " 'chr14': 107043718,\n",
       " 'chr14_GL000009v2_random': 201709,\n",
       " 'chr14_GL000194v1_random': 191469,\n",
       " 'chr14_GL000225v1_random': 211173,\n",
       " 'chr14_KI270722v1_random': 194050,\n",
       " 'chr14_KI270723v1_random': 38115,\n",
       " 'chr14_KI270724v1_random': 39555,\n",
       " 'chr14_KI270725v1_random': 172810,\n",
       " 'chr14_KI270726v1_random': 43739,\n",
       " 'chr15': 101991189,\n",
       " 'chr15_KI270727v1_random': 448248,\n",
       " 'chr16': 90338345,\n",
       " 'chr16_KI270728v1_random': 1872759,\n",
       " 'chr17': 83257441,\n",
       " 'chr17_GL000205v2_random': 185591,\n",
       " 'chr17_KI270729v1_random': 280839,\n",
       " 'chr17_KI270730v1_random': 112551,\n",
       " 'chr18': 80373285,\n",
       " 'chr19': 58617616,\n",
       " 'chr1_KI270706v1_random': 175055,\n",
       " 'chr1_KI270707v1_random': 32032,\n",
       " 'chr1_KI270708v1_random': 127682,\n",
       " 'chr1_KI270709v1_random': 66860,\n",
       " 'chr1_KI270710v1_random': 40176,\n",
       " 'chr1_KI270711v1_random': 42210,\n",
       " 'chr1_KI270712v1_random': 176043,\n",
       " 'chr1_KI270713v1_random': 40745,\n",
       " 'chr1_KI270714v1_random': 41717,\n",
       " 'chr2': 242193529,\n",
       " 'chr20': 64444167,\n",
       " 'chr21': 46709983,\n",
       " 'chr22': 50818468,\n",
       " 'chr22_KI270731v1_random': 150754,\n",
       " 'chr22_KI270732v1_random': 41543,\n",
       " 'chr22_KI270733v1_random': 179772,\n",
       " 'chr22_KI270734v1_random': 165050,\n",
       " 'chr22_KI270735v1_random': 42811,\n",
       " 'chr22_KI270736v1_random': 181920,\n",
       " 'chr22_KI270737v1_random': 103838,\n",
       " 'chr22_KI270738v1_random': 99375,\n",
       " 'chr2_KI270716v1_random': 153799,\n",
       " 'chr3': 198295559,\n",
       " 'chr3_GL000221v1_random': 155397,\n",
       " 'chr4': 190214555,\n",
       " 'chr4_GL000008v2_random': 209709,\n",
       " 'chr5': 181538259,\n",
       " 'chr5_GL000208v1_random': 92689,\n",
       " 'chr6': 170805979,\n",
       " 'chr7': 159345973,\n",
       " 'chr8': 145138636,\n",
       " 'chr9': 138394717,\n",
       " 'chr9_KI270718v1_random': 38054,\n",
       " 'chr9_KI270719v1_random': 176845,\n",
       " 'chr9_KI270720v1_random': 39050,\n",
       " 'chrEBV': 171823,\n",
       " 'chrUn_GL000195v1': 182896,\n",
       " 'chrUn_GL000214v1': 137718,\n",
       " 'chrUn_GL000216v2': 176608,\n",
       " 'chrUn_GL000218v1': 161147,\n",
       " 'chrUn_GL000219v1': 179198,\n",
       " 'chrUn_GL000220v1': 161802,\n",
       " 'chrUn_GL000224v1': 179693,\n",
       " 'chrUn_KI270320v1': 4416,\n",
       " 'chrUn_KI270333v1': 2699,\n",
       " 'chrUn_KI270337v1': 1121,\n",
       " 'chrUn_KI270362v1': 3530,\n",
       " 'chrUn_KI270417v1': 2043,\n",
       " 'chrUn_KI270429v1': 1361,\n",
       " 'chrUn_KI270435v1': 92983,\n",
       " 'chrUn_KI270438v1': 112505,\n",
       " 'chrUn_KI270442v1': 392061,\n",
       " 'chrUn_KI270448v1': 7992,\n",
       " 'chrUn_KI270465v1': 1774,\n",
       " 'chrUn_KI270466v1': 1233,\n",
       " 'chrUn_KI270467v1': 3920,\n",
       " 'chrUn_KI270468v1': 4055,\n",
       " 'chrUn_KI270507v1': 5353,\n",
       " 'chrUn_KI270509v1': 2318,\n",
       " 'chrUn_KI270510v1': 2415,\n",
       " 'chrUn_KI270511v1': 8127,\n",
       " 'chrUn_KI270512v1': 22689,\n",
       " 'chrUn_KI270515v1': 6361,\n",
       " 'chrUn_KI270516v1': 1300,\n",
       " 'chrUn_KI270517v1': 3253,\n",
       " 'chrUn_KI270518v1': 2186,\n",
       " 'chrUn_KI270519v1': 138126,\n",
       " 'chrUn_KI270521v1': 7642,\n",
       " 'chrUn_KI270522v1': 5674,\n",
       " 'chrUn_KI270538v1': 91309,\n",
       " 'chrUn_KI270580v1': 1553,\n",
       " 'chrUn_KI270583v1': 1400,\n",
       " 'chrUn_KI270584v1': 4513,\n",
       " 'chrUn_KI270587v1': 2969,\n",
       " 'chrUn_KI270588v1': 6158,\n",
       " 'chrUn_KI270589v1': 44474,\n",
       " 'chrUn_KI270590v1': 4685,\n",
       " 'chrUn_KI270591v1': 5796,\n",
       " 'chrUn_KI270593v1': 3041,\n",
       " 'chrUn_KI270741v1': 157432,\n",
       " 'chrUn_KI270742v1': 186739,\n",
       " 'chrUn_KI270743v1': 210658,\n",
       " 'chrUn_KI270744v1': 168472,\n",
       " 'chrUn_KI270745v1': 41891,\n",
       " 'chrUn_KI270746v1': 66486,\n",
       " 'chrUn_KI270747v1': 198735,\n",
       " 'chrUn_KI270748v1': 93321,\n",
       " 'chrUn_KI270749v1': 158759,\n",
       " 'chrUn_KI270750v1': 148850,\n",
       " 'chrUn_KI270751v1': 150742,\n",
       " 'chrUn_KI270752v1': 27745,\n",
       " 'chrUn_KI270753v1': 62944,\n",
       " 'chrUn_KI270754v1': 40191,\n",
       " 'chrUn_KI270755v1': 36723,\n",
       " 'chrUn_KI270756v1': 79590,\n",
       " 'chrUn_KI270757v1': 71251,\n",
       " 'chrX': 156040895,\n",
       " 'chrY': 57227415,\n",
       " 'chrY_KI270740v1_random': 37240}"
      ]
     },
     "execution_count": 6,
     "metadata": {},
     "output_type": "execute_result"
    }
   ],
   "source": [
    "#Get chromosomes\n",
    "td_1.chroms()"
   ]
  },
  {
   "cell_type": "code",
   "execution_count": 12,
   "metadata": {},
   "outputs": [
    {
     "name": "stdout",
     "output_type": "stream",
     "text": [
      "248956422\n"
     ]
    }
   ],
   "source": [
    "#Get specific chromosome\n",
    "print(td_1.chroms('chr1'))"
   ]
  },
  {
   "cell_type": "code",
   "execution_count": 11,
   "metadata": {},
   "outputs": [
    {
     "data": {
      "text/plain": [
       "{'version': 4,\n",
       " 'nLevels': 10,\n",
       " 'nBasesCovered': 3096013814,\n",
       " 'minVal': 0,\n",
       " 'maxVal': 54,\n",
       " 'sumData': 1119160580,\n",
       " 'sumSquared': 1119742727}"
      ]
     },
     "execution_count": 11,
     "metadata": {},
     "output_type": "execute_result"
    }
   ],
   "source": [
    "#Get header for bigwig file\n",
    "td_1.header()"
   ]
  },
  {
   "cell_type": "code",
   "execution_count": 14,
   "metadata": {},
   "outputs": [
    {
     "data": {
      "text/plain": [
       "[0.23049324170436863]"
      ]
     },
     "execution_count": 14,
     "metadata": {},
     "output_type": "execute_result"
    }
   ],
   "source": [
    "#Get basic stats on bigwid file \n",
    "td_1.stats('chr1', 1, 30000)"
   ]
  },
  {
   "cell_type": "code",
   "execution_count": 15,
   "metadata": {},
   "outputs": [],
   "source": [
    "#loading reference 2bit reference genome\n",
    "ref_gen = tbr.TwoBitFile('../data/hg38.2bit')"
   ]
  },
  {
   "cell_type": "code",
   "execution_count": null,
   "metadata": {},
   "outputs": [],
   "source": []
  }
 ],
 "metadata": {
  "kernelspec": {
   "display_name": "Python 3",
   "language": "python",
   "name": "python3"
  },
  "language_info": {
   "codemirror_mode": {
    "name": "ipython",
    "version": 3
   },
   "file_extension": ".py",
   "mimetype": "text/x-python",
   "name": "python",
   "nbconvert_exporter": "python",
   "pygments_lexer": "ipython3",
   "version": "3.7.1"
  }
 },
 "nbformat": 4,
 "nbformat_minor": 2
}
