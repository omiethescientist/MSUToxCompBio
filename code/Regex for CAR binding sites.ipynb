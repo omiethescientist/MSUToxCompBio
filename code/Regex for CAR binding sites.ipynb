{
 "cells": [
  {
   "cell_type": "code",
   "execution_count": 1,
   "metadata": {},
   "outputs": [
    {
     "data": {
      "text/plain": [
       "<Figure size 640x480 with 1 Axes>"
      ]
     },
     "metadata": {},
     "output_type": "display_data"
    }
   ],
   "source": [
    "import re\n",
    "import numpy as np\n",
    "import matplotlib.pyplot as plt\n",
    "#Make random sequnce generator\n",
    "def randSeq(n, letters = 'ACGT'):\n",
    "    code = dict((x,y) for x,y in enumerate(letters))\n",
    "    encoded = np.random.randint(4, size = n)\n",
    "    decode =  \"\".join([code[i] for i in encoded])\n",
    "    return decode\n",
    "#Make regex for RGKTCA\n",
    "DR = '[AGCT]{5}[AG]G[GT]TCA[AGCT]{1,15}[AG]G[GT]TCA[AGCT]{5}'\n",
    "IR = '[AGCT]{5}ACT[GT]G[AG][AGCT]{1,15}ACT[GT]G[AG][AGCT]{5}'\n",
    "ER1 = '[AGCT]{5}ACT[GT]G[AG][AGCT]{1,15}[AG]G[GT]TCA[AGCT]{5}'\n",
    "ER2 = '[AGCT]{5}[AG]G[GT]TCA[AGCT]{1,15}ACT[GT]G[AG][AGCT]{5}'\n",
    "DNA = randSeq(5000000)\n",
    "BS = re.compile(\"(%s|%s|%s|%s)\" % (DR,IR,ER1,ER2))\n",
    "found = BS.findall(DNA)\n",
    "len(found)\n",
    "#Finding Distribution of Interspaced Region\n",
    "x = [len(i[11:-11]) for i in found]\n",
    "plt.hist(x)\n",
    "plt.show()"
   ]
  },
  {
   "cell_type": "code",
   "execution_count": 3,
   "metadata": {},
   "outputs": [
    {
     "data": {
      "image/png": "[encoded data removed]",
      "text/plain": [
       "<Figure size 432x288 with 1 Axes>"
      ]
     },
     "metadata": {
      "needs_background": "light"
     },
     "output_type": "display_data"
    }
   ],
   "source": [
    "plt.hist(x)\n",
    "plt.show()"
   ]
  },
  {
   "cell_type": "code",
   "execution_count": 1,
   "metadata": {},
   "outputs": [],
   "source": [
    "import multiprocessing as mp"
   ]
  },
  {
   "cell_type": "code",
   "execution_count": 2,
   "metadata": {},
   "outputs": [
    {
     "data": {
      "text/plain": [
       "8"
      ]
     },
     "execution_count": 2,
     "metadata": {},
     "output_type": "execute_result"
    }
   ],
   "source": [
    "mp.cpu_count()"
   ]
  },
  {
   "cell_type": "code",
   "execution_count": null,
   "metadata": {},
   "outputs": [],
   "source": []
  }
 ],
 "metadata": {
  "kernelspec": {
   "display_name": "Python 3",
   "language": "python",
   "name": "python3"
  },
  "language_info": {
   "codemirror_mode": {
    "name": "ipython",
    "version": 3
   },
   "file_extension": ".py",
   "mimetype": "text/x-python",
   "name": "python",
   "nbconvert_exporter": "python",
   "pygments_lexer": "ipython3",
   "version": "3.7.1"
  }
 },
 "nbformat": 4,
 "nbformat_minor": 2
}
