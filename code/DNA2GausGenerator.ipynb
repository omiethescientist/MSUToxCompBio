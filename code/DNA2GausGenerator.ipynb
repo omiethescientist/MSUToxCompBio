{
 "cells": [
  {
   "cell_type": "code",
   "execution_count": 6,
   "metadata": {},
   "outputs": [],
   "source": [
    "#Credit to Patrick Ng for his DNA2Vec Package\n",
    "import twobitreader as tbr\n",
    "import re \n",
    "import numpy as np"
   ]
  },
  {
   "cell_type": "code",
   "execution_count": 7,
   "metadata": {},
   "outputs": [],
   "source": [
    "def chr_strings(genome):\n",
    "    \"\"\"\n",
    "    Create a string generator for chromosome \n",
    "    \"\"\"\n",
    "    for chrom in genome:\n",
    "        yield genome[chrom][:]\n",
    "\n",
    "def rev_comp(seq):\n",
    "    \"\"\"\n",
    "    Get the DNA reverse complements\n",
    "    \"\"\"\n",
    "    comps = {\"a\":\"t\", \"t\":\"a\", \"g\":\"c\", \"c\":\"g\"}\n",
    "    seq = seq.lower()\n",
    "    return \"\".join([comps[i] for i in seq[::-1]])\n",
    "\n",
    "def get_pseudo_tads(string, motif):\n",
    "    \"\"\"\n",
    "    split the DNA according to some motif\n",
    "    The motif is written in the form of a regex \n",
    "    \"\"\"\n",
    "    x = re.split(motif, string.lower())\n",
    "    x = filter(bool, x)\n",
    "    for i in x:\n",
    "        if \"n\" not in i:\n",
    "            if np.random.rand() < 0.05:\n",
    "                yield rev_comp(i)\n",
    "            else:\n",
    "                yield(i)\n",
    "            \n",
    "def kmerFragmenter(seq, k):\n",
    "    return \" \".join([seq[i:i+k] for i in range(len(seq)-k)])"
   ]
  },
  {
   "cell_type": "code",
   "execution_count": 8,
   "metadata": {},
   "outputs": [],
   "source": [
    "genome = tbr.TwoBitFile(\"../data/hg38.2bit\")\n",
    "motif = r\"agggggc\"\n",
    "k = 8\n",
    "file = \"../data/humanGenomeNLP/\"\n",
    "n = 0\n",
    "chroms = chr_strings(genome)\n",
    "for i in chroms:\n",
    "    for j in get_pseudo_tads(str(i), motif):\n",
    "        with open(file + \"test_\" + str(n), \"w+\") as f:\n",
    "            n += 1\n",
    "            f.write(kmerFragmenter(j, k))"
   ]
  },
  {
   "cell_type": "code",
   "execution_count": null,
   "metadata": {},
   "outputs": [],
   "source": []
  }
 ],
 "metadata": {
  "kernelspec": {
   "display_name": "Python 3",
   "language": "python",
   "name": "python3"
  },
  "language_info": {
   "codemirror_mode": {
    "name": "ipython",
    "version": 3
   },
   "file_extension": ".py",
   "mimetype": "text/x-python",
   "name": "python",
   "nbconvert_exporter": "python",
   "pygments_lexer": "ipython3",
   "version": "3.7.1"
  }
 },
 "nbformat": 4,
 "nbformat_minor": 4
}
